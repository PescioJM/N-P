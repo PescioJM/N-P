{
 "metadata": {
  "name": "",
  "signature": "sha256:c9383da51229d8880e2d10e83262f09dac313f2874d74ee732c955c42a95b43c"
 },
 "nbformat": 3,
 "nbformat_minor": 0,
 "worksheets": [
  {
   "cells": [
    {
     "cell_type": "code",
     "collapsed": false,
     "input": [
      "def contar (): \n",
      "    return(i for i in range (0,20))\n"
     ],
     "language": "python",
     "metadata": {},
     "outputs": [],
     "prompt_number": 1
    },
    {
     "cell_type": "code",
     "collapsed": false,
     "input": [
      "contar()"
     ],
     "language": "python",
     "metadata": {},
     "outputs": [
      {
       "metadata": {},
       "output_type": "pyout",
       "prompt_number": 3,
       "text": [
        "<generator object <genexpr> at 0x7f97c480d140>"
       ]
      }
     ],
     "prompt_number": 3
    },
    {
     "cell_type": "raw",
     "metadata": {},
     "source": [
      "print(contar())"
     ]
    }
   ],
   "metadata": {}
  }
 ]
}